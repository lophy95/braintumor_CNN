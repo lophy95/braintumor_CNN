{
 "cells": [
  {
   "cell_type": "code",
   "execution_count": 1,
   "id": "7a98b9e9",
   "metadata": {
    "_cell_guid": "b1076dfc-b9ad-4769-8c92-a6c4dae69d19",
    "_uuid": "8f2839f25d086af736a60e9eeb907d3b93b6e0e5",
    "execution": {
     "iopub.execute_input": "2023-01-29T12:53:09.516146Z",
     "iopub.status.busy": "2023-01-29T12:53:09.515592Z",
     "iopub.status.idle": "2023-01-29T12:53:18.842104Z",
     "shell.execute_reply": "2023-01-29T12:53:18.840795Z"
    },
    "papermill": {
     "duration": 9.338716,
     "end_time": "2023-01-29T12:53:18.845588",
     "exception": false,
     "start_time": "2023-01-29T12:53:09.506872",
     "status": "completed"
    },
    "tags": []
   },
   "outputs": [],
   "source": [
    "import os\n",
    "import keras \n",
    "from keras.models import Sequential\n",
    "from keras.layers import Conv2D, MaxPooling2D, Flatten, Dense, Dropout, BatchNormalization\n",
    "from PIL import Image\n",
    "import numpy as np\n",
    "import pandas as pd\n",
    "import cv2\n",
    "import matplotlib.pyplot as plt\n",
    "from sklearn.model_selection import train_test_split\n",
    "from sklearn.preprocessing import OneHotEncoder "
   ]
  },
  {
   "cell_type": "code",
   "execution_count": 2,
   "id": "808e0889",
   "metadata": {
    "execution": {
     "iopub.execute_input": "2023-01-29T12:53:18.858854Z",
     "iopub.status.busy": "2023-01-29T12:53:18.857966Z",
     "iopub.status.idle": "2023-01-29T12:53:18.876023Z",
     "shell.execute_reply": "2023-01-29T12:53:18.874709Z"
    },
    "papermill": {
     "duration": 0.027811,
     "end_time": "2023-01-29T12:53:18.878943",
     "exception": false,
     "start_time": "2023-01-29T12:53:18.851132",
     "status": "completed"
    },
    "tags": []
   },
   "outputs": [
    {
     "data": {
      "text/plain": [
       "OneHotEncoder()"
      ]
     },
     "execution_count": 2,
     "metadata": {},
     "output_type": "execute_result"
    }
   ],
   "source": [
    "encoder = OneHotEncoder()\n",
    "encoder.fit([[0], [1]]) \n",
    "# 0 - Tumor\n",
    "# 1 - Normal"
   ]
  },
  {
   "cell_type": "code",
   "execution_count": 3,
   "id": "e4074908",
   "metadata": {
    "execution": {
     "iopub.execute_input": "2023-01-29T12:53:18.892607Z",
     "iopub.status.busy": "2023-01-29T12:53:18.892060Z",
     "iopub.status.idle": "2023-01-29T12:53:20.020263Z",
     "shell.execute_reply": "2023-01-29T12:53:20.018717Z"
    },
    "papermill": {
     "duration": 1.138978,
     "end_time": "2023-01-29T12:53:20.023630",
     "exception": false,
     "start_time": "2023-01-29T12:53:18.884652",
     "status": "completed"
    },
    "tags": []
   },
   "outputs": [],
   "source": [
    "# This cell updates result list for images with tumor\n",
    "data = []\n",
    "paths = []\n",
    "result = []\n",
    "\n",
    "for r, d, f in os.walk(r'../input/brain-mri-images-for-brain-tumor-detection/yes'):\n",
    "    for file in f:\n",
    "        if '.jpg' in file:\n",
    "            paths.append(os.path.join(r, file))\n",
    "            #print(paths)\n",
    "\n",
    "for path in paths:\n",
    "    img = Image.open(path)\n",
    "    img = img.resize((128,128))\n",
    "    img = np.array(img)\n",
    "    if(img.shape == (128,128,3)):\n",
    "        data.append(np.array(img))\n",
    "        #print(data)\n",
    "        result.append(encoder.transform([[0]]).toarray())\n",
    "        #print(result)"
   ]
  },
  {
   "cell_type": "code",
   "execution_count": 4,
   "id": "71e20d89",
   "metadata": {
    "execution": {
     "iopub.execute_input": "2023-01-29T12:53:20.037687Z",
     "iopub.status.busy": "2023-01-29T12:53:20.036655Z",
     "iopub.status.idle": "2023-01-29T12:53:20.743871Z",
     "shell.execute_reply": "2023-01-29T12:53:20.742327Z"
    },
    "papermill": {
     "duration": 0.718133,
     "end_time": "2023-01-29T12:53:20.747402",
     "exception": false,
     "start_time": "2023-01-29T12:53:20.029269",
     "status": "completed"
    },
    "tags": []
   },
   "outputs": [],
   "source": [
    "# This cell updates result list for images without tumor\n",
    "paths = []\n",
    "for r, d, f in os.walk(r\"../input/brain-mri-images-for-brain-tumor-detection/no\"):\n",
    "    for file in f:\n",
    "        if '.jpg' in file:\n",
    "            paths.append(os.path.join(r, file))\n",
    "\n",
    "for path in paths:\n",
    "    img = Image.open(path)\n",
    "    img = img.resize((128,128))\n",
    "    img = np.array(img)\n",
    "    if(img.shape == (128,128,3)):\n",
    "        data.append(np.array(img))\n",
    "        result.append(encoder.transform([[1]]).toarray())"
   ]
  },
  {
   "cell_type": "code",
   "execution_count": 5,
   "id": "fa729777",
   "metadata": {
    "execution": {
     "iopub.execute_input": "2023-01-29T12:53:20.761833Z",
     "iopub.status.busy": "2023-01-29T12:53:20.760395Z",
     "iopub.status.idle": "2023-01-29T12:53:20.777579Z",
     "shell.execute_reply": "2023-01-29T12:53:20.776429Z"
    },
    "papermill": {
     "duration": 0.026907,
     "end_time": "2023-01-29T12:53:20.780160",
     "exception": false,
     "start_time": "2023-01-29T12:53:20.753253",
     "status": "completed"
    },
    "tags": []
   },
   "outputs": [
    {
     "data": {
      "text/plain": [
       "(139, 128, 128, 3)"
      ]
     },
     "execution_count": 5,
     "metadata": {},
     "output_type": "execute_result"
    }
   ],
   "source": [
    "data = np.array(data)\n",
    "data.shape"
   ]
  },
  {
   "cell_type": "code",
   "execution_count": 6,
   "id": "81554ee2",
   "metadata": {
    "execution": {
     "iopub.execute_input": "2023-01-29T12:53:20.793510Z",
     "iopub.status.busy": "2023-01-29T12:53:20.792879Z",
     "iopub.status.idle": "2023-01-29T12:53:20.800972Z",
     "shell.execute_reply": "2023-01-29T12:53:20.799725Z"
    },
    "papermill": {
     "duration": 0.018092,
     "end_time": "2023-01-29T12:53:20.803786",
     "exception": false,
     "start_time": "2023-01-29T12:53:20.785694",
     "status": "completed"
    },
    "tags": []
   },
   "outputs": [
    {
     "data": {
      "text/plain": [
       "(139, 1, 2)"
      ]
     },
     "execution_count": 6,
     "metadata": {},
     "output_type": "execute_result"
    }
   ],
   "source": [
    "result = np.array(result)\n",
    "result.shape"
   ]
  },
  {
   "cell_type": "code",
   "execution_count": 7,
   "id": "bd8e402b",
   "metadata": {
    "execution": {
     "iopub.execute_input": "2023-01-29T12:53:20.817474Z",
     "iopub.status.busy": "2023-01-29T12:53:20.816963Z",
     "iopub.status.idle": "2023-01-29T12:53:20.822588Z",
     "shell.execute_reply": "2023-01-29T12:53:20.821337Z"
    },
    "papermill": {
     "duration": 0.016342,
     "end_time": "2023-01-29T12:53:20.825973",
     "exception": false,
     "start_time": "2023-01-29T12:53:20.809631",
     "status": "completed"
    },
    "tags": []
   },
   "outputs": [],
   "source": [
    "result = result.reshape(139,2)\n",
    "#result"
   ]
  },
  {
   "cell_type": "code",
   "execution_count": 8,
   "id": "1dd56c15",
   "metadata": {
    "execution": {
     "iopub.execute_input": "2023-01-29T12:53:20.840367Z",
     "iopub.status.busy": "2023-01-29T12:53:20.838719Z",
     "iopub.status.idle": "2023-01-29T12:53:20.848189Z",
     "shell.execute_reply": "2023-01-29T12:53:20.846947Z"
    },
    "papermill": {
     "duration": 0.019374,
     "end_time": "2023-01-29T12:53:20.850979",
     "exception": false,
     "start_time": "2023-01-29T12:53:20.831605",
     "status": "completed"
    },
    "tags": []
   },
   "outputs": [
    {
     "data": {
      "text/plain": [
       "(139, 2)"
      ]
     },
     "execution_count": 8,
     "metadata": {},
     "output_type": "execute_result"
    }
   ],
   "source": [
    "result.shape"
   ]
  },
  {
   "cell_type": "code",
   "execution_count": 9,
   "id": "57c2b0a0",
   "metadata": {
    "execution": {
     "iopub.execute_input": "2023-01-29T12:53:20.866092Z",
     "iopub.status.busy": "2023-01-29T12:53:20.865068Z",
     "iopub.status.idle": "2023-01-29T12:53:20.880530Z",
     "shell.execute_reply": "2023-01-29T12:53:20.878992Z"
    },
    "papermill": {
     "duration": 0.0266,
     "end_time": "2023-01-29T12:53:20.883725",
     "exception": false,
     "start_time": "2023-01-29T12:53:20.857125",
     "status": "completed"
    },
    "tags": []
   },
   "outputs": [],
   "source": [
    "x_train,x_test,y_train,y_test = train_test_split(data, result, \n",
    "                                                 test_size=0.2, \n",
    "                                                 shuffle=True,\n",
    "                                                 stratify=result,\n",
    "                                                 random_state=0)"
   ]
  },
  {
   "cell_type": "code",
   "execution_count": 10,
   "id": "5d76662e",
   "metadata": {
    "execution": {
     "iopub.execute_input": "2023-01-29T12:53:20.897333Z",
     "iopub.status.busy": "2023-01-29T12:53:20.896823Z",
     "iopub.status.idle": "2023-01-29T12:53:21.531030Z",
     "shell.execute_reply": "2023-01-29T12:53:21.529335Z"
    },
    "papermill": {
     "duration": 0.6445,
     "end_time": "2023-01-29T12:53:21.534058",
     "exception": false,
     "start_time": "2023-01-29T12:53:20.889558",
     "status": "completed"
    },
    "tags": []
   },
   "outputs": [
    {
     "name": "stderr",
     "output_type": "stream",
     "text": [
      "2023-01-29 12:53:20.949255: I tensorflow/core/common_runtime/process_util.cc:146] Creating new thread pool with default inter op setting: 2. Tune using inter_op_parallelism_threads for best performance.\n"
     ]
    },
    {
     "name": "stdout",
     "output_type": "stream",
     "text": [
      "Model: \"sequential\"\n",
      "_________________________________________________________________\n",
      "Layer (type)                 Output Shape              Param #   \n",
      "=================================================================\n",
      "conv2d (Conv2D)              (None, 128, 128, 32)      416       \n",
      "_________________________________________________________________\n",
      "conv2d_1 (Conv2D)            (None, 122, 122, 32)      50208     \n",
      "_________________________________________________________________\n",
      "batch_normalization (BatchNo (None, 122, 122, 32)      128       \n",
      "_________________________________________________________________\n",
      "max_pooling2d (MaxPooling2D) (None, 61, 61, 32)        0         \n",
      "_________________________________________________________________\n",
      "dropout (Dropout)            (None, 61, 61, 32)        0         \n",
      "_________________________________________________________________\n",
      "conv2d_2 (Conv2D)            (None, 60, 60, 64)        8256      \n",
      "_________________________________________________________________\n",
      "conv2d_3 (Conv2D)            (None, 60, 60, 64)        16448     \n",
      "_________________________________________________________________\n",
      "batch_normalization_1 (Batch (None, 60, 60, 64)        256       \n",
      "_________________________________________________________________\n",
      "max_pooling2d_1 (MaxPooling2 (None, 30, 30, 64)        0         \n",
      "_________________________________________________________________\n",
      "dropout_1 (Dropout)          (None, 30, 30, 64)        0         \n",
      "_________________________________________________________________\n",
      "flatten (Flatten)            (None, 57600)             0         \n",
      "_________________________________________________________________\n",
      "dense (Dense)                (None, 512)               29491712  \n",
      "_________________________________________________________________\n",
      "dropout_2 (Dropout)          (None, 512)               0         \n",
      "_________________________________________________________________\n",
      "dense_1 (Dense)              (None, 2)                 1026      \n",
      "=================================================================\n",
      "Total params: 29,568,450\n",
      "Trainable params: 29,568,258\n",
      "Non-trainable params: 192\n",
      "_________________________________________________________________\n",
      "None\n"
     ]
    }
   ],
   "source": [
    "model = Sequential()\n",
    "model.add(Conv2D(32, kernel_size=(2, 2), input_shape=(128, 128, 3), padding = 'Same'))\n",
    "model.add(Conv2D(32, kernel_size=(7, 7),  activation ='relu', padding = 'Valid'))\n",
    "model.add(BatchNormalization())\n",
    "model.add(MaxPooling2D(pool_size=(2, 2)))\n",
    "model.add(Dropout(0.25)) \n",
    "model.add(Conv2D(64, kernel_size = (2,2), activation ='relu', padding = 'Valid'))\n",
    "model.add(Conv2D(64, kernel_size = (2,2), activation ='relu', padding = 'Same'))\n",
    "model.add(BatchNormalization())\n",
    "model.add(MaxPooling2D(pool_size=(2,2), strides=(2,2)))\n",
    "model.add(Dropout(0.25))\n",
    "model.add(Flatten())\n",
    "model.add(Dense(512, activation='relu'))\n",
    "model.add(Dropout(0.5))\n",
    "model.add(Dense(2, activation='softmax'))\n",
    "\n",
    "model.compile(optimizer='adam', loss='binary_crossentropy', metrics=['accuracy'])\n",
    "print(model.summary())"
   ]
  },
  {
   "cell_type": "code",
   "execution_count": 11,
   "id": "c224408a",
   "metadata": {
    "execution": {
     "iopub.execute_input": "2023-01-29T12:53:21.548669Z",
     "iopub.status.busy": "2023-01-29T12:53:21.548148Z",
     "iopub.status.idle": "2023-01-29T12:53:21.555035Z",
     "shell.execute_reply": "2023-01-29T12:53:21.553935Z"
    },
    "papermill": {
     "duration": 0.017394,
     "end_time": "2023-01-29T12:53:21.557596",
     "exception": false,
     "start_time": "2023-01-29T12:53:21.540202",
     "status": "completed"
    },
    "tags": []
   },
   "outputs": [
    {
     "data": {
      "text/plain": [
       "(111, 2)"
      ]
     },
     "execution_count": 11,
     "metadata": {},
     "output_type": "execute_result"
    }
   ],
   "source": [
    "y_train.shape"
   ]
  },
  {
   "cell_type": "code",
   "execution_count": 12,
   "id": "f6d169e4",
   "metadata": {
    "execution": {
     "iopub.execute_input": "2023-01-29T12:53:21.572662Z",
     "iopub.status.busy": "2023-01-29T12:53:21.572090Z",
     "iopub.status.idle": "2023-01-29T12:57:14.842582Z",
     "shell.execute_reply": "2023-01-29T12:57:14.841258Z"
    },
    "papermill": {
     "duration": 233.281652,
     "end_time": "2023-01-29T12:57:14.845572",
     "exception": false,
     "start_time": "2023-01-29T12:53:21.563920",
     "status": "completed"
    },
    "tags": []
   },
   "outputs": [
    {
     "name": "stderr",
     "output_type": "stream",
     "text": [
      "2023-01-29 12:53:21.679170: I tensorflow/compiler/mlir/mlir_graph_optimization_pass.cc:185] None of the MLIR Optimization Passes are enabled (registered 2)\n"
     ]
    },
    {
     "name": "stdout",
     "output_type": "stream",
     "text": [
      "Epoch 1/30\n",
      "3/3 [==============================] - 10s 3s/step - loss: 19.6568 - accuracy: 0.5225 - val_loss: 74.0883 - val_accuracy: 0.6071\n",
      "Epoch 2/30\n",
      "3/3 [==============================] - 8s 3s/step - loss: 10.8007 - accuracy: 0.6306 - val_loss: 20.1048 - val_accuracy: 0.6786\n",
      "Epoch 3/30\n",
      "3/3 [==============================] - 8s 3s/step - loss: 5.2452 - accuracy: 0.7568 - val_loss: 44.8726 - val_accuracy: 0.5000\n",
      "Epoch 4/30\n",
      "3/3 [==============================] - 8s 2s/step - loss: 1.8627 - accuracy: 0.8739 - val_loss: 26.1560 - val_accuracy: 0.5357\n",
      "Epoch 5/30\n",
      "3/3 [==============================] - 7s 2s/step - loss: 1.0851 - accuracy: 0.9009 - val_loss: 21.3767 - val_accuracy: 0.6071\n",
      "Epoch 6/30\n",
      "3/3 [==============================] - 8s 3s/step - loss: 0.8630 - accuracy: 0.9369 - val_loss: 20.6210 - val_accuracy: 0.6429\n",
      "Epoch 7/30\n",
      "3/3 [==============================] - 8s 3s/step - loss: 0.3212 - accuracy: 0.9369 - val_loss: 13.8516 - val_accuracy: 0.7143\n",
      "Epoch 8/30\n",
      "3/3 [==============================] - 8s 3s/step - loss: 0.3986 - accuracy: 0.9640 - val_loss: 8.9038 - val_accuracy: 0.7500\n",
      "Epoch 9/30\n",
      "3/3 [==============================] - 8s 2s/step - loss: 0.2177 - accuracy: 0.9640 - val_loss: 6.9214 - val_accuracy: 0.7500\n",
      "Epoch 10/30\n",
      "3/3 [==============================] - 8s 3s/step - loss: 0.1078 - accuracy: 0.9730 - val_loss: 5.3468 - val_accuracy: 0.7500\n",
      "Epoch 11/30\n",
      "3/3 [==============================] - 8s 2s/step - loss: 0.1453 - accuracy: 0.9820 - val_loss: 5.2644 - val_accuracy: 0.7500\n",
      "Epoch 12/30\n",
      "3/3 [==============================] - 7s 2s/step - loss: 0.1728 - accuracy: 0.9910 - val_loss: 6.0546 - val_accuracy: 0.7500\n",
      "Epoch 13/30\n",
      "3/3 [==============================] - 8s 3s/step - loss: 0.0928 - accuracy: 0.9910 - val_loss: 6.3763 - val_accuracy: 0.7143\n",
      "Epoch 14/30\n",
      "3/3 [==============================] - 8s 2s/step - loss: 0.1128 - accuracy: 0.9730 - val_loss: 5.8200 - val_accuracy: 0.7143\n",
      "Epoch 15/30\n",
      "3/3 [==============================] - 8s 3s/step - loss: 0.0650 - accuracy: 0.9910 - val_loss: 4.8602 - val_accuracy: 0.7500\n",
      "Epoch 16/30\n",
      "3/3 [==============================] - 8s 3s/step - loss: 0.1131 - accuracy: 0.9910 - val_loss: 3.3652 - val_accuracy: 0.7857\n",
      "Epoch 17/30\n",
      "3/3 [==============================] - 8s 3s/step - loss: 0.1604 - accuracy: 1.0000 - val_loss: 2.9729 - val_accuracy: 0.7857\n",
      "Epoch 18/30\n",
      "3/3 [==============================] - 8s 2s/step - loss: 0.0180 - accuracy: 1.0000 - val_loss: 2.8493 - val_accuracy: 0.7857\n",
      "Epoch 19/30\n",
      "3/3 [==============================] - 8s 3s/step - loss: 0.0300 - accuracy: 0.9910 - val_loss: 2.5925 - val_accuracy: 0.8214\n",
      "Epoch 20/30\n",
      "3/3 [==============================] - 8s 3s/step - loss: 0.0206 - accuracy: 0.9910 - val_loss: 2.2096 - val_accuracy: 0.7857\n",
      "Epoch 21/30\n",
      "3/3 [==============================] - 7s 2s/step - loss: 0.0089 - accuracy: 1.0000 - val_loss: 1.8378 - val_accuracy: 0.8214\n",
      "Epoch 22/30\n",
      "3/3 [==============================] - 8s 2s/step - loss: 0.0187 - accuracy: 1.0000 - val_loss: 1.6362 - val_accuracy: 0.7857\n",
      "Epoch 23/30\n",
      "3/3 [==============================] - 8s 3s/step - loss: 0.0491 - accuracy: 0.9910 - val_loss: 1.4994 - val_accuracy: 0.7857\n",
      "Epoch 24/30\n",
      "3/3 [==============================] - 8s 3s/step - loss: 0.0118 - accuracy: 1.0000 - val_loss: 1.4773 - val_accuracy: 0.7500\n",
      "Epoch 25/30\n",
      "3/3 [==============================] - 7s 2s/step - loss: 0.0304 - accuracy: 0.9910 - val_loss: 1.4754 - val_accuracy: 0.7500\n",
      "Epoch 26/30\n",
      "3/3 [==============================] - 7s 2s/step - loss: 0.0042 - accuracy: 1.0000 - val_loss: 1.4808 - val_accuracy: 0.7500\n",
      "Epoch 27/30\n",
      "3/3 [==============================] - 8s 3s/step - loss: 0.0110 - accuracy: 0.9910 - val_loss: 1.4644 - val_accuracy: 0.7500\n",
      "Epoch 28/30\n",
      "3/3 [==============================] - 8s 3s/step - loss: 0.0011 - accuracy: 1.0000 - val_loss: 1.4903 - val_accuracy: 0.7500\n",
      "Epoch 29/30\n",
      "3/3 [==============================] - 8s 3s/step - loss: 0.0287 - accuracy: 0.9910 - val_loss: 1.5641 - val_accuracy: 0.7500\n",
      "Epoch 30/30\n",
      "3/3 [==============================] - 8s 3s/step - loss: 0.0234 - accuracy: 0.9910 - val_loss: 1.4015 - val_accuracy: 0.7857\n"
     ]
    }
   ],
   "source": [
    "cnn=model.fit(x_train, y_train, epochs = 30, \n",
    "                    batch_size = 40, verbose = 1,\n",
    "                    validation_data = (x_test, y_test))"
   ]
  },
  {
   "cell_type": "code",
   "execution_count": 13,
   "id": "1ae20cf2",
   "metadata": {
    "execution": {
     "iopub.execute_input": "2023-01-29T12:57:14.878467Z",
     "iopub.status.busy": "2023-01-29T12:57:14.877917Z",
     "iopub.status.idle": "2023-01-29T12:57:14.883676Z",
     "shell.execute_reply": "2023-01-29T12:57:14.882442Z"
    },
    "papermill": {
     "duration": 0.025251,
     "end_time": "2023-01-29T12:57:14.886227",
     "exception": false,
     "start_time": "2023-01-29T12:57:14.860976",
     "status": "completed"
    },
    "tags": []
   },
   "outputs": [],
   "source": [
    "model_history = model.history.history"
   ]
  },
  {
   "cell_type": "code",
   "execution_count": 14,
   "id": "52a2083b",
   "metadata": {
    "execution": {
     "iopub.execute_input": "2023-01-29T12:57:14.919604Z",
     "iopub.status.busy": "2023-01-29T12:57:14.918244Z",
     "iopub.status.idle": "2023-01-29T12:57:14.926704Z",
     "shell.execute_reply": "2023-01-29T12:57:14.925690Z"
    },
    "papermill": {
     "duration": 0.028061,
     "end_time": "2023-01-29T12:57:14.929495",
     "exception": false,
     "start_time": "2023-01-29T12:57:14.901434",
     "status": "completed"
    },
    "tags": []
   },
   "outputs": [],
   "source": [
    "def plot_metrics(model_history):\n",
    "    \n",
    "    train_loss = cnn.history['loss']\n",
    "    val_loss = cnn.history['val_loss']\n",
    "    train_accuracy = cnn.history['accuracy']\n",
    "    val_accuracy = cnn.history['val_accuracy']\n",
    "    \n",
    "     # Accuracy\n",
    "    plt.figure()\n",
    "    plt.plot(train_accuracy, label='Training Accuracy')\n",
    "    plt.plot(val_accuracy, label='Validation Accuracy')\n",
    "    plt.title('Accuracy')\n",
    "    plt.legend()\n",
    "    plt.show()\n",
    "    \n",
    "    # Loss\n",
    "    plt.figure()\n",
    "    plt.plot(train_loss, label='Training Loss')\n",
    "    plt.plot(val_loss, label='Validation Loss')\n",
    "    plt.title('Loss')\n",
    "    plt.legend()\n",
    "    plt.show()\n",
    "    "
   ]
  },
  {
   "cell_type": "code",
   "execution_count": 15,
   "id": "0b81151f",
   "metadata": {
    "execution": {
     "iopub.execute_input": "2023-01-29T12:57:14.962650Z",
     "iopub.status.busy": "2023-01-29T12:57:14.962091Z",
     "iopub.status.idle": "2023-01-29T12:57:15.460294Z",
     "shell.execute_reply": "2023-01-29T12:57:15.459343Z"
    },
    "papermill": {
     "duration": 0.518107,
     "end_time": "2023-01-29T12:57:15.463003",
     "exception": false,
     "start_time": "2023-01-29T12:57:14.944896",
     "status": "completed"
    },
    "tags": []
   },
   "outputs": [
    {
     "data": {
      "image/png": "[encoded data removed]",
      "text/plain": [
       "<Figure size 432x288 with 1 Axes>"
      ]
     },
     "metadata": {
      "needs_background": "light"
     },
     "output_type": "display_data"
    },
    {
     "data": {
      "image/png": "[encoded data removed]",
      "text/plain": [
       "<Figure size 432x288 with 1 Axes>"
      ]
     },
     "metadata": {
      "needs_background": "light"
     },
     "output_type": "display_data"
    }
   ],
   "source": [
    "plot_metrics(model_history)"
   ]
  },
  {
   "cell_type": "markdown",
   "id": "9f1a6f54",
   "metadata": {
    "papermill": {
     "duration": 0.015596,
     "end_time": "2023-01-29T12:57:15.494736",
     "exception": false,
     "start_time": "2023-01-29T12:57:15.479140",
     "status": "completed"
    },
    "tags": []
   },
   "source": [
    "# Steps for reducing overfitting:\n",
    "\n",
    "* Add more data/Use data augmentation"
   ]
  },
  {
   "cell_type": "markdown",
   "id": "05d102e5",
   "metadata": {
    "papermill": {
     "duration": 0.015945,
     "end_time": "2023-01-29T12:57:15.526962",
     "exception": false,
     "start_time": "2023-01-29T12:57:15.511017",
     "status": "completed"
    },
    "tags": []
   },
   "source": [
    "# Augmentation"
   ]
  },
  {
   "cell_type": "code",
   "execution_count": null,
   "id": "9143eae3",
   "metadata": {
    "papermill": {
     "duration": 0.015661,
     "end_time": "2023-01-29T12:57:15.558687",
     "exception": false,
     "start_time": "2023-01-29T12:57:15.543026",
     "status": "completed"
    },
    "tags": []
   },
   "outputs": [],
   "source": []
  }
 ],
 "metadata": {
  "kernelspec": {
   "display_name": "Python 3",
   "language": "python",
   "name": "python3"
  },
  "language_info": {
   "codemirror_mode": {
    "name": "ipython",
    "version": 3
   },
   "file_extension": ".py",
   "mimetype": "text/x-python",
   "name": "python",
   "nbconvert_exporter": "python",
   "pygments_lexer": "ipython3",
   "version": "3.7.12"
  },
  "papermill": {
   "default_parameters": {},
   "duration": 260.540577,
   "end_time": "2023-01-29T12:57:19.358009",
   "environment_variables": {},
   "exception": null,
   "input_path": "__notebook__.ipynb",
   "output_path": "__notebook__.ipynb",
   "parameters": {},
   "start_time": "2023-01-29T12:52:58.817432",
   "version": "2.3.4"
  }
 },
 "nbformat": 4,
 "nbformat_minor": 5
}
